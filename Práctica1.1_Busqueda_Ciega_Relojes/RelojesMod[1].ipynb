{
 "cells": [
  {
   "cell_type": "markdown",
   "id": "5b43971f-e09b-4bb7-bd0c-f1f16cd6aee5",
   "metadata": {},
   "source": [
    "\n",
    "*PROBLEMA RELOJES*\n",
    "\n",
    "G16, Álvaro Escudero, Miguel Macicior y Daniel García.\n",
    "\n",
    "Disponemos de dos relojes de arena. Uno mide 7 minutos y el otro mide 11 minutos. \n",
    "Inicialmente los dos relojes tienen toda la arena en uno de sus lados. Con estos dos relojes \n",
    "podemos: \n",
    "• Girar un reloj (con lo que la arena de un lado cae en el otro). \n",
    "• Girar los dos relojes a la vez hasta que uno de los dos se vac\n",
    "íe. \n",
    "El objetivo, con ayuda exclusiva de los dos relojes, es lograr una configuración en la que el \n",
    "contenido de uno de los lados de alguno de los dos relojes equivalga a 3 minutos. ¿Se puede \n",
    "conseguir? ¿se pueden conseguir 5 minutos?   \n",
    "Prueba distintos algoritmos de búsqueda ciega y comenta los resultados obtenidos. "
   ]
  },
  {
   "cell_type": "code",
   "execution_count": 3,
   "id": "7f44d11d-f23b-4e12-b887-ad33b9a82567",
   "metadata": {},
   "outputs": [
    {
     "name": "stdout",
     "output_type": "stream",
     "text": [
      "\n",
      "\n"
     ]
    }
   ],
   "source": [
    "from search import Problem, depth_limited_search\n",
    "\n",
    "class Relojes(Problem):\n",
    "    \"\"\"Problema de los relojes de arena.\n",
    "    Representamos los estados como tuplas (x, y) donde:\n",
    "    - x es el tiempo restante en el reloj 1 \n",
    "    - y es el tiempo restante en el reloj 2\"\"\"\n",
    "\n",
    "    def __init__(self, tam1, tam2, goal):\n",
    "        self.initial = (0, 0)  # Ambos relojes empiezan vacíos\n",
    "        self.tam1 = tam1\n",
    "        self.tam2 = tam2\n",
    "        self.goal = goal\n",
    "\n",
    "    def actions(self, estado):\n",
    "        r1, r2 = estado\n",
    "        acciones = []\n",
    "        \n",
    "        # Girar reloj 1 si está vacío o lleno\n",
    "        if r1 == 0:\n",
    "            acciones.append(\"girar reloj 1\")\n",
    "        \n",
    "        # Girar reloj 2 si está vacío o lleno\n",
    "        if r2 == 0:\n",
    "            acciones.append(\"girar reloj 2\")\n",
    "        \n",
    "        # Vaciar toda la arena de un reloj\n",
    "        if r1 > 0:\n",
    "            acciones.append(\"vaciar reloj 1\")\n",
    "        if r2 > 0:\n",
    "            acciones.append(\"vaciar reloj 2\")\n",
    "        \n",
    "        return acciones\n",
    "\n",
    "    def result(self, estado, accion):\n",
    "        r1, r2 = estado\n",
    "        \n",
    "        if accion == \"girar reloj 1\":\n",
    "            return (self.tam1, r2)  # Girar el reloj vacío 1\n",
    "        elif accion == \"girar reloj 2\":\n",
    "            return (r1, self.tam2)  # Girar el reloj vacío 2\n",
    "        elif accion == \"vaciar reloj 1\":\n",
    "            return 0, max(0,(r2 - r1))\n",
    "        elif accion == \"vaciar reloj 2\":\n",
    "            return  max(0,(r1 - r2)),0 \n",
    "\n",
    "    def goal_test(self, estado):\n",
    "        r1, r2 = estado\n",
    "        return r1 == self.goal or r2 == self.goal\n",
    "\n",
    "def mostrar_solucion(problem, node):\n",
    "    \"\"\"Imprime los estados paso a paso junto con las acciones.\"\"\"\n",
    "    path = node.path()  \n",
    "    estados = [problem.initial] \n",
    "    print(\"Pasos desde el estado inicial hasta el objetivo:\")\n",
    "    \n",
    "    for action in node.solution(): \n",
    "        nuevo_estado = problem.result(estados[-1], action)  \n",
    "        print(f\"Acción: {action}, Estado: {nuevo_estado}\")\n",
    "        estados.append(nuevo_estado)  \n",
    "print(\"\\n\")\n",
    "\n"
   ]
  },
  {
   "cell_type": "code",
   "execution_count": 4,
   "id": "3ea9c25f",
   "metadata": {},
   "outputs": [
    {
     "name": "stdout",
     "output_type": "stream",
     "text": [
      "Estado inicial: (0, 0)\n",
      "Solución encontrada: ['girar reloj 1', 'girar reloj 2', 'vaciar reloj 1', 'girar reloj 1', 'vaciar reloj 1', 'girar reloj 1', 'girar reloj 2', 'vaciar reloj 1', 'girar reloj 1', 'vaciar reloj 2']\n",
      "Pasos desde el estado inicial hasta el objetivo:\n",
      "Acción: girar reloj 1, Estado: (7, 0)\n",
      "Acción: girar reloj 2, Estado: (7, 11)\n",
      "Acción: vaciar reloj 1, Estado: (0, 4)\n",
      "Acción: girar reloj 1, Estado: (7, 4)\n",
      "Acción: vaciar reloj 1, Estado: (0, 0)\n",
      "Acción: girar reloj 1, Estado: (7, 0)\n",
      "Acción: girar reloj 2, Estado: (7, 11)\n",
      "Acción: vaciar reloj 1, Estado: (0, 4)\n",
      "Acción: girar reloj 1, Estado: (7, 4)\n",
      "Acción: vaciar reloj 2, Estado: (3, 0)\n",
      "Estado final: (3, 0)\n",
      "\n",
      "\n",
      "El estado final (3, 0) cumple con el objetivo de 3 minutos.\n",
      "\n",
      "\n"
     ]
    }
   ],
   "source": [
    "#3 minutos\n",
    "p2 = Relojes(7, 11, 3)  # Relojes de 7 y 11 minutos, con meta de 3 minutos\n",
    "print(\"Estado inicial:\", p2.initial)\n",
    "\n",
    "#búsqueda limitada a una profundidad de 12\n",
    "resultado_5 = depth_limited_search(p2, 12)\n",
    "\n",
    "if resultado_5 is None:\n",
    "    print(\"No se encontró solución.\")\n",
    "else:\n",
    "    print(\"Solución encontrada:\", resultado_5.solution())\n",
    "    mostrar_solucion(p2, resultado_5)\n",
    "\n",
    "# objetivo\n",
    "estado_final = resultado_5.state\n",
    "print(f\"Estado final: {estado_final}\")\n",
    "print(\"\\n\")\n",
    "if p2.goal_test(estado_final):\n",
    "    print(f\"El estado final {estado_final} cumple con el objetivo de {p2.goal} minutos.\")\n",
    "else:\n",
    "    print(f\"El estado final {estado_final} no cumple con el objetivo.\")\n",
    "print(\"\\n\")"
   ]
  },
  {
   "cell_type": "code",
   "execution_count": 12,
   "id": "e4e54979",
   "metadata": {},
   "outputs": [
    {
     "name": "stdout",
     "output_type": "stream",
     "text": [
      "Estado inicial: (0, 0)\n"
     ]
    },
    {
     "ename": "AttributeError",
     "evalue": "'str' object has no attribute 'solution'",
     "output_type": "error",
     "traceback": [
      "\u001b[1;31m---------------------------------------------------------------------------\u001b[0m",
      "\u001b[1;31mAttributeError\u001b[0m                            Traceback (most recent call last)",
      "Cell \u001b[1;32mIn[12], line 11\u001b[0m\n\u001b[0;32m      9\u001b[0m     \u001b[38;5;28mprint\u001b[39m(\u001b[38;5;124m\"\u001b[39m\u001b[38;5;124mNo se encontró solución.\u001b[39m\u001b[38;5;124m\"\u001b[39m)\n\u001b[0;32m     10\u001b[0m \u001b[38;5;28;01melse\u001b[39;00m:\n\u001b[1;32m---> 11\u001b[0m     \u001b[38;5;28mprint\u001b[39m(\u001b[38;5;124m\"\u001b[39m\u001b[38;5;124mSolución encontrada:\u001b[39m\u001b[38;5;124m\"\u001b[39m, \u001b[43mres5\u001b[49m\u001b[38;5;241;43m.\u001b[39;49m\u001b[43msolution\u001b[49m())\n\u001b[0;32m     12\u001b[0m     mostrar_solucion(p5, res5)\n\u001b[0;32m     14\u001b[0m \u001b[38;5;66;03m# objetivo\u001b[39;00m\n",
      "\u001b[1;31mAttributeError\u001b[0m: 'str' object has no attribute 'solution'"
     ]
    }
   ],
   "source": [
    "#5 minutos\n",
    "p5 = Relojes(7, 11, 5)  # Relojes de 7 y 11 minutos, con meta de 5 minutos\n",
    "print(\"Estado inicial:\", p5.initial)\n",
    "\n",
    "#búsqueda limitada a una profundidad de 12\n",
    "res5 = depth_limited_search(p5, 12)\n",
    "\n",
    "if res5 is None:\n",
    "    print(\"No se encontró solución.\")\n",
    "else:\n",
    "    print(\"Solución encontrada:\", res5.solution())\n",
    "    mostrar_solucion(p5, res5)\n",
    "\n",
    "# objetivo\n",
    "estado_final2 = res5.state\n",
    "print(f\"Estado final: {estado_final2}\")\n",
    "print(\"\\n\")\n",
    "if p5.goal_test(estado_final):\n",
    "    print(f\"El estado final {estado_final2} cumple con el objetivo de {p5.goal} minutos.\")\n",
    "else:\n",
    "    print(f\"El estado final {estado_final2} no cumple con el objetivo.\")\n",
    "print(\"\\n\")"
   ]
  }
 ],
 "metadata": {
  "kernelspec": {
   "display_name": ".venv",
   "language": "python",
   "name": "python3"
  },
  "language_info": {
   "codemirror_mode": {
    "name": "ipython",
    "version": 3
   },
   "file_extension": ".py",
   "mimetype": "text/x-python",
   "name": "python",
   "nbconvert_exporter": "python",
   "pygments_lexer": "ipython3",
   "version": "3.12.6"
  }
 },
 "nbformat": 4,
 "nbformat_minor": 5
}
