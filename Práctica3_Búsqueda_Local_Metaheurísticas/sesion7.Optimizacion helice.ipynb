{
 "cells": [
  {
   "cell_type": "markdown",
   "metadata": {},
   "source": [
    "# Práctica 3. Optimización de un modelo de ingeniería usando un algoritmo genético"
   ]
  },
  {
   "cell_type": "markdown",
   "metadata": {},
   "source": [
    "A menudo, en ingeniería tenemos simulaciones de un modelo y hay que optimizar sus parámetros sin disponer de una fórmula explícita que relacione los parámetros con el comportamiento del modelo. Nos plantearemos un problema de ese tipo: tenemos una función que calcula las propiedades de una hélice en función de una serie de parámetros, pero no conocemos los cálculos que hace internamente. Disponemos de una caja negra que es un modelo de simulación (créditos: Siro Moreno y Carlos Dorado)"
   ]
  },
  {
   "cell_type": "markdown",
   "metadata": {},
   "source": [
    "Aunque no es imprescindible conocer todos los detalles del modelo sí es recomendable familiarizarnos con los parámetros de configuración de la hélice que vamos a optimizar. "
   ]
  },
  {
   "cell_type": "code",
   "execution_count": null,
   "metadata": {},
   "outputs": [],
   "source": [
    "from modelo.helice import *"
   ]
  },
  {
   "cell_type": "code",
   "execution_count": null,
   "metadata": {
    "collapsed": false,
    "jupyter": {
     "outputs_hidden": false
    }
   },
   "outputs": [],
   "source": [
    "help(calcular_helice)"
   ]
  },
  {
   "cell_type": "markdown",
   "metadata": {},
   "source": [
    "Lo primero que tendrás que hacer es definir una representación adecuada para los cromosomas que representan un diseño de la hélice en base a sus parámetros. Nuestra hélice depende de varios parámetros que queremos optimizar. Podemos decidir optimizar algunos mateniendo un valor controlado de otros. \n",
    "\n",
    "***Como sugerencia*** se proponen los siguientes parámetros de optimización: \n",
    "\n",
    "- omega (velocidad de rotación) (Entre 0 y 200 radianes/segundo)\n",
    "- R (radio de la hélice) (Entre 0.1 y 2 metros)\n",
    "- b (número de palas) (Entre 2 y 5 palas) \n",
    "- theta0 (ángulo de paso colectivo) (Entre -0.26 y 0.26 radianes)(*se corresponde a -15 y 15 grados*)\n",
    "- p (parámetro de torsión) (Entre -5 y 20 grados)\n",
    "- cuerda (anchura de la pala) (Entre 0.01 y 0.2 metros)\n",
    "\n",
    "y fijar los parámetros:\n",
    "- vz (velocidad de vuelo)\n",
    "- h (altura de vuelo)"
   ]
  },
  {
   "cell_type": "markdown",
   "metadata": {},
   "source": [
    "Ten en cuenta que necesitarás funciones de decodificación hay que transformar la representación binaria en variables con sentido físico. Por ejemplo, si el entero de la variable Omega está entre 0 y 1023 (10bits), pero la variable Omega real estará entre 0 y 200 radianes por segundo, el valor se calcula como:\n",
    "    omega = genes[0] * 200 / 1023\n",
    "    \n",
    "del mismo modo, para R:\n",
    "    R =  0.1 + genes[1] * 1.9 / 1023 #Obtendremos un radio entre 0.1 y 2 metros\n",
    "    \n",
    "El número de palas debe ser un entero:\n",
    "    b = genes[2] + 2 #(entre 2 y 5 palas)\n",
    "    \n",
    "    \n",
    "Para la función de fitness usaremos la función que calcula el desempeño del rotor según sus parámetros:\n",
    "\n",
    "    T, P, efic, mach_punta = calcular_rotor(omega, vz, R, b, h...) #Introduce las variables que uses de parámetro.\n",
    "                                                                # Consulta la ayuda para asegurarte de que usas el \n",
    "                                                                # formato correcto!\n",
    "Recuerda que T es la tracción de la hélice, P es la Potencia consumida por la hélice, efic representa la eficiencia propulsiva de la hélice y mach_punta representa el mach en la punta de las palas. El número de mach en las puntas de la hélice se refiere a la velocidad relativa de las puntas de la hélice con respecto a la velocidad del sonido en el aire circundante.\n",
    "\n",
    "Antes de seguir vamos a observar en las gráficas cómo cambian las características de la hélice (tracción, potencia, eficiencia y mach de las puntas) para cada valor de velocidad de vuelto (avance en m/s). Fijamos unos ciertos parámetros para ver el desempeño de la hélice.    "
   ]
  },
  {
   "cell_type": "code",
   "execution_count": null,
   "metadata": {},
   "outputs": [],
   "source": [
    "%matplotlib inline\n",
    "import matplotlib.pyplot as plt\n",
    "import random"
   ]
  },
  {
   "cell_type": "code",
   "execution_count": null,
   "metadata": {},
   "outputs": [],
   "source": [
    "vel = np.linspace(0, 30, 100)\n",
    "# La función linspace() devuelve 100 valores espaciados uniformemente dentro del intervalo especificado [0, ] \n",
    "# zeros_like return an array of zeros with the same shape and type as a given array.\n",
    "efic = np.zeros_like(vel)\n",
    "T = np.zeros_like(vel)\n",
    "P = np.zeros_like(vel)\n",
    "mach = np.zeros_like(vel)\n",
    "for i in range(len(vel)):\n",
    "    T[i], P[i], efic[i], mach[i] = calcular_helice(130, vel[i], 0.5, 3)"
   ]
  },
  {
   "cell_type": "code",
   "execution_count": null,
   "metadata": {
    "collapsed": false,
    "jupyter": {
     "outputs_hidden": false
    }
   },
   "outputs": [],
   "source": [
    "plt.plot(vel, efic)\n",
    "plt.title('Eficiencia de la hélice')"
   ]
  },
  {
   "cell_type": "code",
   "execution_count": null,
   "metadata": {
    "collapsed": false,
    "jupyter": {
     "outputs_hidden": false
    },
    "scrolled": true
   },
   "outputs": [],
   "source": [
    "plt.plot(vel, T)\n",
    "plt.title('Tracción de la hélice')"
   ]
  },
  {
   "cell_type": "code",
   "execution_count": null,
   "metadata": {
    "collapsed": false,
    "jupyter": {
     "outputs_hidden": false
    }
   },
   "outputs": [],
   "source": [
    "plt.plot(vel, P)\n",
    "plt.title('Potencia consumida')"
   ]
  },
  {
   "cell_type": "code",
   "execution_count": null,
   "metadata": {
    "collapsed": false,
    "jupyter": {
     "outputs_hidden": false
    }
   },
   "outputs": [],
   "source": [
    "plt.plot(vel, mach)\n",
    "plt.title('Mach en la punta de las palas')"
   ]
  },
  {
   "cell_type": "markdown",
   "metadata": {},
   "source": [
    "Si quieres puedes observar también el impacto del resto de parámetros. \n",
    "\n",
    "Para la ejecución del algoritmo tendrás que definir una **función de fitness** adecuada según lo que decidas optimizar.\n",
    "\n",
    "Por ejemplo, si buscáramos que tuviera la tracción máxima sin preocuparnos de nada más, el valor de fitnes sería simplemente igual al de T:\n",
    "\n",
    "    fitness = T\n",
    "\n",
    "Si queremos imponer restricciones, por ejemplo, que la potencia sea menor a 1000 watios, se pueden añadir sentencias del tipo:\n",
    "\n",
    "    if P > 1000:\n",
    "        fitness -= 1000\n",
    "        \n",
    "Si queremos optimizar varias salidas podemos hacerlo de manera ponderada:\n",
    "\n",
    "    fitness = parámetro_importante * 10 + parámetro_poco_importante * 0.5\n",
    "    \n",
    "También se pueden combinar diferentes funciones no lineales:\n",
    "\n",
    "    fitness = parámetro_1 * parámetro_2 - parámetro_3 **2 * log(parámetro_4)\n",
    "\n",
    "Puedes elegir con qué objetivo quieres optimizar la hélice pero te hacemos algunas sugerencias de posibles objetivos de optimización:\n",
    "\n",
    "    - Maximizar la tracción (manteniendo una tracción mínima de 30 Newtons) con el mínimo radio posible.\n",
    "    - Mínima potencia consumida posible, máxima eficiencia propulsiva, y mínimo radio posible (sin ser este criterio muy importante), manteniendo una tracción mínima de 40 Newtons y un mach en la punta de las palas de como mucho 0.7\n",
    "    - Máximizar la eficiencia cuando vuela a 70 m/s, y maximizar la tracción por encima de 50 Newtons para el despegue (vz = 0)    "
   ]
  },
  {
   "cell_type": "markdown",
   "metadata": {},
   "source": [
    "### Se pide utilizar un algoritmo genético para encontrar la mejor configuración de parámetros para el modelo de hélice dado y comentar los resultados obtenidos. \n",
    "\n",
    "Documentar convenientemente el código y justificar las decisiones para la configuración del algoritmo genético. "
   ]
  },
  {
   "cell_type": "code",
   "execution_count": null,
   "metadata": {},
   "outputs": [],
   "source": []
  },
  {
   "cell_type": "code",
   "execution_count": null,
   "metadata": {},
   "outputs": [],
   "source": []
  }
 ],
 "metadata": {
  "kernelspec": {
   "display_name": "Python 3 (ipykernel)",
   "language": "python",
   "name": "python3"
  },
  "language_info": {
   "codemirror_mode": {
    "name": "ipython",
    "version": 3
   },
   "file_extension": ".py",
   "mimetype": "text/x-python",
   "name": "python",
   "nbconvert_exporter": "python",
   "pygments_lexer": "ipython3",
   "version": "3.12.4"
  }
 },
 "nbformat": 4,
 "nbformat_minor": 4
}
