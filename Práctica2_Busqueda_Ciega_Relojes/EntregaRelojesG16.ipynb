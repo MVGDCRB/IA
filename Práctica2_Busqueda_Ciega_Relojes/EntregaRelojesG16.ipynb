{
 "cells": [
  {
   "cell_type": "markdown",
   "id": "5b43971f-e09b-4bb7-bd0c-f1f16cd6aee5",
   "metadata": {},
   "source": [
    "\n",
    "*PROBLEMA RELOJES*\n",
    "\n",
    "G16, Álvaro Escudero, Miguel Macicior y Daniel García.\n",
    "\n",
    "Disponemos de dos relojes de arena. Uno mide 7 minutos y el otro mide 11 minutos. \n",
    "Inicialmente los dos relojes tienen toda la arena en uno de sus lados. Con estos dos relojes \n",
    "podemos: \n",
    "\n",
    "    • Girar un reloj (con lo que la arena de un lado cae en el otro). \n",
    "    • Girar los dos relojes a la vez hasta que uno de los dos se vacíe.\n",
    "\n",
    "El objetivo, con ayuda exclusiva de los dos relojes, es lograr una configuración en la que el contenido de uno de los lados de alguno de los dos relojes equivalga a 3 minutos. ¿Se puede conseguir? ¿Se pueden conseguir 5 minutos?   \n",
    "Prueba distintos algoritmos de búsqueda ciega y comenta los resultados obtenidos. "
   ]
  },
  {
   "cell_type": "code",
   "execution_count": 8,
   "id": "7f44d11d-f23b-4e12-b887-ad33b9a82567",
   "metadata": {},
   "outputs": [
    {
     "name": "stdout",
     "output_type": "stream",
     "text": [
      "\n",
      "\n"
     ]
    }
   ],
   "source": [
    "from search import Problem, depth_limited_search, breadth_first_tree_search, depth_first_tree_search, depth_first_graph_search, breadth_first_graph_search, iterative_deepening_search\n",
    "\n",
    "class Relojes(Problem):\n",
    "\n",
    "    def __init__(self, tam1, tam2, goal):\n",
    "        self.initial = (0, 0)  # Ambos relojes empiezan vacíos\n",
    "        self.tam1 = tam1\n",
    "        self.tam2 = tam2\n",
    "        self.goal = goal\n",
    "\n",
    "    def actions(self, estado):\n",
    "        r1 = estado[0]\n",
    "        r2 = estado[1]\n",
    "        acciones = []   \n",
    "\n",
    "        # Girar reloj 1 solo si está vacío\n",
    "        if r1 == 0:\n",
    "            acciones.append(\"girar reloj 1\")\n",
    "        \n",
    "        # Girar reloj 2 solo si está vacío\n",
    "        if r2 == 0:\n",
    "            acciones.append(\"girar reloj 2\")\n",
    "\n",
    "        # Girar los dos relojes hasta que uno se vacíe si no están ya llenos los dos\n",
    "        if r1 + r2 < self.tam1 + self.tam2:\n",
    "            acciones.append(\"girar los dos relojes y vaciar el menor\")    \n",
    "        \n",
    "        return acciones\n",
    "\n",
    "    def result(self, estado, accion):\n",
    "        r1 = estado[0]\n",
    "        r2 = estado[1]\n",
    "        \n",
    "        if accion == \"girar reloj 1\":\n",
    "            return (self.tam1, r2)  # Llenar el reloj 1 \n",
    "        elif accion == \"girar reloj 2\":\n",
    "            return (r1, self.tam2)  # Llenar el reloj 2 \n",
    "        elif accion == \"girar los dos relojes y vaciar el menor\":\n",
    "            estadoGirado = (self.tam1 - r1, self.tam2 - r2)\n",
    "            transfer = min(estadoGirado[0],estadoGirado[1])  # Girar los dos relojes hasta que uno se vacíe\n",
    "            return estadoGirado[0] - transfer, estadoGirado[1] - transfer\n",
    "\n",
    "    def goal_test(self, estado):\n",
    "        r1 = estado[0]\n",
    "        r2 = estado[1]\n",
    "        return (r1 == self.goal or r2 == self.goal or self.tam1 - r1 == self.goal or self.tam2 - r2 == self.goal)\n",
    "\n",
    "def mostrar_solucion(problem, node):\n",
    "    \"\"\"Imprime los estados paso a paso junto con las acciones.\"\"\"\n",
    "    #path = node.path()  \n",
    "    estados = [problem.initial] \n",
    "    print(\"Pasos desde el estado inicial hasta el objetivo:\\n\")\n",
    "    \n",
    "    for action in node.solution(): \n",
    "        nuevo_estado = problem.result(estados[-1], action)  \n",
    "        print(f\"Acción: {action} - Estado: {nuevo_estado}\")\n",
    "        estados.append(nuevo_estado)  \n",
    "print(\"\\n\")"
   ]
  },
  {
   "cell_type": "markdown",
   "id": "f9966fd6",
   "metadata": {},
   "source": [
    "Representamos los estados como tuplas (x, y) donde:\n",
    "    - x es el tiempo restante en el reloj 1\n",
    "    - y es el tiempo restante en el reloj 2\n",
    "Consideramos que los relojes empiezan los dos vacíos, es decir, el estado inicial es (0,0)\n",
    "\n",
    "Definimos los operadores del enunciado y sus precondiciones\n",
    "    -Girar el primer reloj\n",
    "        -Para ello el reloj debe estar previamente vacío\n",
    "    -Girar el segundo reloj\n",
    "        -Para ello el reloj debe estar previamente vacío\n",
    "    -Girar los dos hasta vaciar al menos uno\n",
    "        -Para ello alguno de los relojes no debe estar lleno del todo, en cuyo caso se obtendría de nuevo el estado (0,0) del que partimos y que no nos interesa\n"
   ]
  },
  {
   "cell_type": "code",
   "execution_count": 9,
   "id": "3ea9c25f",
   "metadata": {},
   "outputs": [
    {
     "name": "stdout",
     "output_type": "stream",
     "text": [
      "Estado inicial: (0, 0) \n",
      "\n",
      "Pasos desde el estado inicial hasta el objetivo:\n",
      "\n",
      "Acción: girar los dos relojes y vaciar el menor - Estado: (4, 0)\n",
      "Acción: girar reloj 2 - Estado: (4, 7)\n",
      "Acción: girar los dos relojes y vaciar el menor - Estado: (7, 0)\n",
      "Acción: girar los dos relojes y vaciar el menor - Estado: (0, 3)\n",
      "\n",
      "Estado final: (0, 3)\n",
      "\n",
      "\n",
      "El estado final (0, 3) cumple con el objetivo de 3 minutos.\n",
      "\n",
      "\n"
     ]
    }
   ],
   "source": [
    "#3 minutos\n",
    "problem = Relojes(11, 7, 3)  # Relojes de 7 y 11 minutos, con meta de 3 minutos\n",
    "print(\"Estado inicial:\", problem.initial, \"\\n\")\n",
    "\n",
    "result = breadth_first_tree_search(problem)\n",
    "\n",
    "# objetivo\n",
    "if hasattr(result,\"state\"):\n",
    "    mostrar_solucion(problem, result)\n",
    "    estado_final = result.state\n",
    "    print(f\"\\nEstado final: {estado_final}\")\n",
    "    print(\"\\n\")\n",
    "    if problem.goal_test(estado_final):\n",
    "        print(f\"El estado final {estado_final} cumple con el objetivo de {problem.goal} minutos.\")\n",
    "    else:\n",
    "        print(f\"El estado final {estado_final} no cumple con el objetivo.\")\n",
    "    print(\"\\n\")\n",
    "else :print(\"No se encontró ninguna solución\")"
   ]
  },
  {
   "cell_type": "code",
   "execution_count": 10,
   "id": "ea67fe09",
   "metadata": {},
   "outputs": [
    {
     "name": "stdout",
     "output_type": "stream",
     "text": [
      "Estado inicial: (0, 0)\n",
      "Pasos desde el estado inicial hasta el objetivo:\n",
      "\n",
      "Acción: girar los dos relojes y vaciar el menor - Estado: (4, 0)\n",
      "Acción: girar reloj 2 - Estado: (4, 7)\n",
      "Acción: girar los dos relojes y vaciar el menor - Estado: (7, 0)\n",
      "Acción: girar los dos relojes y vaciar el menor - Estado: (0, 3)\n",
      "Acción: girar reloj 1 - Estado: (11, 3)\n",
      "Acción: girar los dos relojes y vaciar el menor - Estado: (0, 4)\n",
      "Acción: girar los dos relojes y vaciar el menor - Estado: (8, 0)\n",
      "Acción: girar reloj 2 - Estado: (8, 7)\n",
      "Acción: girar los dos relojes y vaciar el menor - Estado: (3, 0)\n",
      "Acción: girar los dos relojes y vaciar el menor - Estado: (1, 0)\n",
      "Acción: girar reloj 2 - Estado: (1, 7)\n",
      "Acción: girar los dos relojes y vaciar el menor - Estado: (10, 0)\n",
      "Acción: girar los dos relojes y vaciar el menor - Estado: (0, 6)\n",
      "Acción: girar reloj 1 - Estado: (11, 6)\n",
      "Acción: girar los dos relojes y vaciar el menor - Estado: (0, 1)\n",
      "Acción: girar los dos relojes y vaciar el menor - Estado: (5, 0)\n",
      "\n",
      "Estado final: (5, 0)\n",
      "\n",
      "\n",
      "El estado final (5, 0) cumple con el objetivo de 5 minutos.\n",
      "\n",
      "\n"
     ]
    }
   ],
   "source": [
    "#5 minutos\n",
    "problem = Relojes(11, 7, 5)  \n",
    "print(\"Estado inicial:\", problem.initial)\n",
    "\n",
    "result = breadth_first_graph_search(problem)\n",
    "\n",
    "if hasattr(result,\"state\"):\n",
    "    mostrar_solucion(problem, result)\n",
    "    estado_final = result.state\n",
    "    print(f\"\\nEstado final: {estado_final}\")\n",
    "    print(\"\\n\")\n",
    "    if problem.goal_test(estado_final):\n",
    "        print(f\"El estado final {estado_final} cumple con el objetivo de {problem.goal} minutos.\")\n",
    "    else:\n",
    "        print(f\"El estado final {estado_final} no cumple con el objetivo.\")\n",
    "    print(\"\\n\")\n",
    "else :print(\"No se encontró ninguna solución\")"
   ]
  },
  {
   "cell_type": "markdown",
   "id": "adfff263",
   "metadata": {},
   "source": [
    "La búsqueda en anchura en árbol se garantiza encontrar la solución, debido a que es un algoritmo completo, además se garantiza encontrar la solución que menos acciones requiere. En este caso 4 acciones para 3 minutos y 16 para 5 minutos"
   ]
  },
  {
   "cell_type": "code",
   "execution_count": 11,
   "id": "98c64807-a51d-4e04-bbb8-fd51de110430",
   "metadata": {},
   "outputs": [
    {
     "name": "stdout",
     "output_type": "stream",
     "text": [
      "Estado inicial: (0, 0)\n"
     ]
    },
    {
     "ename": "KeyboardInterrupt",
     "evalue": "",
     "output_type": "error",
     "traceback": [
      "\u001b[1;31m---------------------------------------------------------------------------\u001b[0m",
      "\u001b[1;31mKeyboardInterrupt\u001b[0m                         Traceback (most recent call last)",
      "Cell \u001b[1;32mIn[11], line 5\u001b[0m\n\u001b[0;32m      2\u001b[0m problem \u001b[38;5;241m=\u001b[39m Relojes(\u001b[38;5;241m11\u001b[39m, \u001b[38;5;241m7\u001b[39m, \u001b[38;5;241m3\u001b[39m)  \u001b[38;5;66;03m# Relojes de 7 y 11 minutos, con meta de 3 minutos\u001b[39;00m\n\u001b[0;32m      3\u001b[0m \u001b[38;5;28mprint\u001b[39m(\u001b[38;5;124m\"\u001b[39m\u001b[38;5;124mEstado inicial:\u001b[39m\u001b[38;5;124m\"\u001b[39m, problem\u001b[38;5;241m.\u001b[39minitial)\n\u001b[1;32m----> 5\u001b[0m res3 \u001b[38;5;241m=\u001b[39m \u001b[43mdepth_first_tree_search\u001b[49m\u001b[43m(\u001b[49m\u001b[43mproblem\u001b[49m\u001b[43m)\u001b[49m\n\u001b[0;32m      7\u001b[0m \u001b[38;5;28;01mif\u001b[39;00m \u001b[38;5;129;01mnot\u001b[39;00m \u001b[38;5;28mhasattr\u001b[39m(res3,\u001b[38;5;124m\"\u001b[39m\u001b[38;5;124msolution\u001b[39m\u001b[38;5;124m\"\u001b[39m):\n\u001b[0;32m      8\u001b[0m     \u001b[38;5;28mprint\u001b[39m(\u001b[38;5;124m\"\u001b[39m\u001b[38;5;124mNo se encontró solución.\u001b[39m\u001b[38;5;124m\"\u001b[39m)\n",
      "File \u001b[1;32mc:\\Users\\migma\\OneDrive\\Escritorio\\Nueva anormalidad\\UNI\\IA\\Prácticas\\Práctica1\\search.py:212\u001b[0m, in \u001b[0;36mdepth_first_tree_search\u001b[1;34m(problem)\u001b[0m\n\u001b[0;32m    210\u001b[0m     \u001b[38;5;28;01mif\u001b[39;00m problem\u001b[38;5;241m.\u001b[39mgoal_test(node\u001b[38;5;241m.\u001b[39mstate):\n\u001b[0;32m    211\u001b[0m         \u001b[38;5;28;01mreturn\u001b[39;00m node\n\u001b[1;32m--> 212\u001b[0m     frontier\u001b[38;5;241m.\u001b[39mextend(\u001b[43mnode\u001b[49m\u001b[38;5;241;43m.\u001b[39;49m\u001b[43mexpand\u001b[49m\u001b[43m(\u001b[49m\u001b[43mproblem\u001b[49m\u001b[43m)\u001b[49m)\n\u001b[0;32m    213\u001b[0m \u001b[38;5;28;01mreturn\u001b[39;00m \u001b[38;5;28;01mNone\u001b[39;00m\n",
      "File \u001b[1;32mc:\\Users\\migma\\OneDrive\\Escritorio\\Nueva anormalidad\\UNI\\IA\\Prácticas\\Práctica1\\search.py:96\u001b[0m, in \u001b[0;36mNode.expand\u001b[1;34m(self, problem)\u001b[0m\n\u001b[0;32m     94\u001b[0m \u001b[38;5;28;01mdef\u001b[39;00m \u001b[38;5;21mexpand\u001b[39m(\u001b[38;5;28mself\u001b[39m, problem):\n\u001b[0;32m     95\u001b[0m \u001b[38;5;250m    \u001b[39m\u001b[38;5;124;03m\"\"\"List the nodes reachable in one step from this node.\"\"\"\u001b[39;00m\n\u001b[1;32m---> 96\u001b[0m     \u001b[38;5;28;01mreturn\u001b[39;00m [\u001b[38;5;28;43mself\u001b[39;49m\u001b[38;5;241;43m.\u001b[39;49m\u001b[43mchild_node\u001b[49m\u001b[43m(\u001b[49m\u001b[43mproblem\u001b[49m\u001b[43m,\u001b[49m\u001b[43m \u001b[49m\u001b[43maction\u001b[49m\u001b[43m)\u001b[49m\n\u001b[0;32m     97\u001b[0m             \u001b[38;5;28;01mfor\u001b[39;00m action \u001b[38;5;129;01min\u001b[39;00m problem\u001b[38;5;241m.\u001b[39mactions(\u001b[38;5;28mself\u001b[39m\u001b[38;5;241m.\u001b[39mstate)]\n",
      "File \u001b[1;32mc:\\Users\\migma\\OneDrive\\Escritorio\\Nueva anormalidad\\UNI\\IA\\Prácticas\\Práctica1\\search.py:102\u001b[0m, in \u001b[0;36mNode.child_node\u001b[1;34m(self, problem, action)\u001b[0m\n\u001b[0;32m    100\u001b[0m \u001b[38;5;250m\u001b[39m\u001b[38;5;124;03m\"\"\"[Figure 3.10]\"\"\"\u001b[39;00m\n\u001b[0;32m    101\u001b[0m next_state \u001b[38;5;241m=\u001b[39m problem\u001b[38;5;241m.\u001b[39mresult(\u001b[38;5;28mself\u001b[39m\u001b[38;5;241m.\u001b[39mstate, action)\n\u001b[1;32m--> 102\u001b[0m next_node \u001b[38;5;241m=\u001b[39m Node(next_state, \u001b[38;5;28mself\u001b[39m, action, \u001b[43mproblem\u001b[49m\u001b[38;5;241;43m.\u001b[39;49m\u001b[43mpath_cost\u001b[49m\u001b[43m(\u001b[49m\u001b[38;5;28;43mself\u001b[39;49m\u001b[38;5;241;43m.\u001b[39;49m\u001b[43mpath_cost\u001b[49m\u001b[43m,\u001b[49m\u001b[43m \u001b[49m\u001b[38;5;28;43mself\u001b[39;49m\u001b[38;5;241;43m.\u001b[39;49m\u001b[43mstate\u001b[49m\u001b[43m,\u001b[49m\u001b[43m \u001b[49m\u001b[43maction\u001b[49m\u001b[43m,\u001b[49m\u001b[43m \u001b[49m\u001b[43mnext_state\u001b[49m\u001b[43m)\u001b[49m)\n\u001b[0;32m    103\u001b[0m \u001b[38;5;28;01mreturn\u001b[39;00m next_node\n",
      "File \u001b[1;32mc:\\Users\\migma\\OneDrive\\Escritorio\\Nueva anormalidad\\UNI\\IA\\Prácticas\\Práctica1\\search.py:51\u001b[0m, in \u001b[0;36mProblem.path_cost\u001b[1;34m(self, c, state1, action, state2)\u001b[0m\n\u001b[0;32m     48\u001b[0m     \u001b[38;5;28;01melse\u001b[39;00m:\n\u001b[0;32m     49\u001b[0m         \u001b[38;5;28;01mreturn\u001b[39;00m state \u001b[38;5;241m==\u001b[39m \u001b[38;5;28mself\u001b[39m\u001b[38;5;241m.\u001b[39mgoal\n\u001b[1;32m---> 51\u001b[0m \u001b[38;5;28;01mdef\u001b[39;00m \u001b[38;5;21mpath_cost\u001b[39m(\u001b[38;5;28mself\u001b[39m, c, state1, action, state2):\n\u001b[0;32m     52\u001b[0m \u001b[38;5;250m    \u001b[39m\u001b[38;5;124;03m\"\"\"Return the cost of a solution path that arrives at state2 from\u001b[39;00m\n\u001b[0;32m     53\u001b[0m \u001b[38;5;124;03m    state1 via action, assuming cost c to get up to state1. If the problem\u001b[39;00m\n\u001b[0;32m     54\u001b[0m \u001b[38;5;124;03m    is such that the path doesn't matter, this function will only look at\u001b[39;00m\n\u001b[0;32m     55\u001b[0m \u001b[38;5;124;03m    state2. If the path does matter, it will consider c and maybe state1\u001b[39;00m\n\u001b[0;32m     56\u001b[0m \u001b[38;5;124;03m    and action. The default method costs 1 for every step in the path.\"\"\"\u001b[39;00m\n\u001b[0;32m     57\u001b[0m     \u001b[38;5;28;01mreturn\u001b[39;00m c \u001b[38;5;241m+\u001b[39m \u001b[38;5;241m1\u001b[39m\n",
      "\u001b[1;31mKeyboardInterrupt\u001b[0m: "
     ]
    }
   ],
   "source": [
    "#3 minutos\n",
    "problem = Relojes(11, 7, 3)  # Relojes de 7 y 11 minutos, con meta de 3 minutos\n",
    "print(\"Estado inicial:\", problem.initial)\n",
    "\n",
    "res3 = depth_first_tree_search(problem)\n",
    "\n",
    "if not hasattr(res3,\"solution\"):\n",
    "    print(\"No se encontró solución.\")\n",
    "else:\n",
    "    print(\"Solución encontrada:\", res3.solution())\n",
    "    mostrar_solucion(problem, res3)\n",
    "# objetivo\n",
    "if hasattr(res3,\"state\"):\n",
    "    estado_final = res3.state\n",
    "    print(f\"Estado final: {estado_final}\")\n",
    "    print(\"\\n\")\n",
    "    if problem.goal_test(estado_final):\n",
    "        print(f\"El estado final {estado_final} cumple con el objetivo de {problem.goal} minutos.\")\n",
    "    else:\n",
    "        print(f\"El estado final {estado_final} no cumple con el objetivo.\")\n",
    "    print(\"\\n\")"
   ]
  },
  {
   "cell_type": "markdown",
   "id": "e7d2a3e6",
   "metadata": {},
   "source": [
    "La búsqueda en profundidad no es necesariamente completa en árboles de búsqueda potencialmente infinitos sin control de repetidos. En este caso no llega a encontrar una solución porque intenta explorar la rama izquierda del árbol sin control de repetidos. Luego no es adecuada para resolver este problema sin hacer modificaciones en el algoritmo o en las estructuras de datos del entorno."
   ]
  },
  {
   "cell_type": "code",
   "execution_count": 12,
   "id": "19be02f7",
   "metadata": {},
   "outputs": [
    {
     "name": "stdout",
     "output_type": "stream",
     "text": [
      "Estado inicial: (0, 0)\n",
      "Solución encontrada: ['girar los dos relojes y vaciar el menor', 'girar reloj 2', 'girar los dos relojes y vaciar el menor', 'girar los dos relojes y vaciar el menor']\n",
      "Pasos desde el estado inicial hasta el objetivo:\n",
      "\n",
      "Acción: girar los dos relojes y vaciar el menor - Estado: (4, 0)\n",
      "Acción: girar reloj 2 - Estado: (4, 7)\n",
      "Acción: girar los dos relojes y vaciar el menor - Estado: (7, 0)\n",
      "Acción: girar los dos relojes y vaciar el menor - Estado: (0, 3)\n",
      "Estado final: (0, 3)\n",
      "\n",
      "\n",
      "El estado final (0, 3) cumple con el objetivo de 3 minutos.\n",
      "\n",
      "\n"
     ]
    }
   ],
   "source": [
    "#3 minutos\n",
    "problem = Relojes(11, 7, 3)  # Relojes de 7 y 11 minutos, con meta de 3 minutos\n",
    "print(\"Estado inicial:\", problem.initial)\n",
    "\n",
    "res3 = depth_first_graph_search(problem)\n",
    "\n",
    "if not hasattr(res3,\"solution\"):\n",
    "    print(\"No se encontró solución.\")\n",
    "else:\n",
    "    print(\"Solución encontrada:\", res3.solution())\n",
    "    mostrar_solucion(problem, res3)\n",
    "# objetivo\n",
    "if hasattr(res3,\"state\"):\n",
    "    estado_final = res3.state\n",
    "    print(f\"Estado final: {estado_final}\")\n",
    "    print(\"\\n\")\n",
    "    if problem.goal_test(estado_final):\n",
    "        print(f\"El estado final {estado_final} cumple con el objetivo de {problem.goal} minutos.\")\n",
    "    else:\n",
    "        print(f\"El estado final {estado_final} no cumple con el objetivo.\")\n",
    "    print(\"\\n\")"
   ]
  },
  {
   "cell_type": "markdown",
   "id": "bb4e874c",
   "metadata": {},
   "source": [
    "La búsqueda en profundidad, usada en este caso en un espacio de nodos representado por un grafo sí finaliza, aunque el espacio de búsqueda es potencialmente infinito. Esto es porque el espacio de estados sí es finito. (Existen a lo sumo 12*8 estados para los relojes) y porque al realizar la búsqueda con un grafo, cada vértice del grafo corresponde a un único nodo de búsqueda y al contrario que con la estructura de árbol el algoritmo puede agotar las ramas de búsqueda y pasa a ser completo, aunque no necesariamente óptimo. "
   ]
  },
  {
   "cell_type": "code",
   "execution_count": 68,
   "id": "a0ddf05d",
   "metadata": {},
   "outputs": [
    {
     "name": "stdout",
     "output_type": "stream",
     "text": [
      "Estado inicial: (0, 0)\n",
      "No se encontró solución.\n"
     ]
    }
   ],
   "source": [
    "#3 minutos\n",
    "problem = Relojes(11, 7, 3)  # Relojes de 7 y 11 minutos, con meta de 3 minutos\n",
    "print(\"Estado inicial:\", problem.initial)\n",
    "\n",
    "#búsqueda limitada a una profundidad de 3\n",
    "res3 = depth_limited_search(problem, 3)\n",
    "\n",
    "if not hasattr(res3,\"solution\"):\n",
    "    print(\"No se encontró solución.\")\n",
    "else:\n",
    "    print(\"Solución encontrada:\", res3.solution())\n",
    "    mostrar_solucion(problem, res3)\n",
    "# objetivo\n",
    "if hasattr(res3,\"state\"):\n",
    "    estado_final = res3.state\n",
    "    print(f\"Estado final: {estado_final}\")\n",
    "    print(\"\\n\")\n",
    "    if problem.goal_test(estado_final):\n",
    "        print(f\"El estado final {estado_final} cumple con el objetivo de {problem.goal} minutos.\")\n",
    "    else:\n",
    "        print(f\"El estado final {estado_final} no cumple con el objetivo.\")\n",
    "    print(\"\\n\")"
   ]
  },
  {
   "cell_type": "code",
   "execution_count": 69,
   "id": "afb7b469",
   "metadata": {},
   "outputs": [
    {
     "name": "stdout",
     "output_type": "stream",
     "text": [
      "Estado inicial: (0, 0)\n",
      "Solución encontrada: ['girar los dos relojes y vaciar el menor', 'girar reloj 2', 'girar los dos relojes y vaciar el menor', 'girar reloj 2', 'girar los dos relojes y vaciar el menor', 'girar reloj 2', 'girar los dos relojes y vaciar el menor', 'girar los dos relojes y vaciar el menor']\n",
      "Pasos desde el estado inicial hasta el objetivo:\n",
      "Acción: girar los dos relojes y vaciar el menor, Estado: (4, 0)\n",
      "Acción: girar reloj 2, Estado: (4, 7)\n",
      "Acción: girar los dos relojes y vaciar el menor, Estado: (7, 0)\n",
      "Acción: girar reloj 2, Estado: (7, 7)\n",
      "Acción: girar los dos relojes y vaciar el menor, Estado: (4, 0)\n",
      "Acción: girar reloj 2, Estado: (4, 7)\n",
      "Acción: girar los dos relojes y vaciar el menor, Estado: (7, 0)\n",
      "Acción: girar los dos relojes y vaciar el menor, Estado: (0, 3)\n",
      "Estado final: (0, 3)\n",
      "\n",
      "\n",
      "El estado final (0, 3) cumple con el objetivo de 3 minutos.\n",
      "\n",
      "\n"
     ]
    }
   ],
   "source": [
    "#3 minutos\n",
    "problem = Relojes(11, 7, 3)  # Relojes de 7 y 11 minutos, con meta de 3 minutos\n",
    "print(\"Estado inicial:\", problem.initial)\n",
    "\n",
    "#búsqueda limitada a una profundidad de 10\n",
    "res3 = depth_limited_search(problem, 10)\n",
    "\n",
    "if not hasattr(res3,\"solution\"):\n",
    "    print(\"No se encontró solución.\")\n",
    "else:\n",
    "    print(\"Solución encontrada:\", res3.solution())\n",
    "    mostrar_solucion(problem, res3)\n",
    "# objetivo\n",
    "if hasattr(res3,\"state\"):\n",
    "    estado_final = res3.state\n",
    "    print(f\"Estado final: {estado_final}\")\n",
    "    print(\"\\n\")\n",
    "    if problem.goal_test(estado_final):\n",
    "        print(f\"El estado final {estado_final} cumple con el objetivo de {problem.goal} minutos.\")\n",
    "    else:\n",
    "        print(f\"El estado final {estado_final} no cumple con el objetivo.\")\n",
    "    print(\"\\n\")"
   ]
  },
  {
   "cell_type": "markdown",
   "id": "2c759ec4",
   "metadata": {},
   "source": [
    "La búsqueda con profundidad limitada conserva las propiedades de la búsqueda en profundidad pero evita los problemas derivados de explorar espacios de búsqueda potencialmente infinitos o con ciclos. Solo es completa si existe una solución que esté a una profundidad menor o igual que el nivel de profundidad límite. En este caso sabemos que la solución más cercana se encuentra a profundidad 4, de modo que cuando establecemos 3 como el límite de profundidad la búsqueda no encuentra solución y cuando establecemos un número mayor o igual que 4, como es el 10, sí la encuentra.\n",
    "\n",
    "En este caso observamos además que la solución dista mucho de ser óptima porque como comentábamos antes, la búsqueda en profundidad elige ramas más a la izquierda como en este caso generando bucles, hasta que la profundidad límite le impide dar una vuelta de bucle más."
   ]
  },
  {
   "cell_type": "code",
   "execution_count": 15,
   "id": "83873e3c",
   "metadata": {},
   "outputs": [
    {
     "name": "stdout",
     "output_type": "stream",
     "text": [
      "Estado inicial: (0, 0)\n",
      "\n",
      "Solución encontrada: ['girar los dos relojes y vaciar el menor', 'girar reloj 2', 'girar los dos relojes y vaciar el menor', 'girar los dos relojes y vaciar el menor']\n",
      "Pasos desde el estado inicial hasta el objetivo:\n",
      "\n",
      "Acción: girar los dos relojes y vaciar el menor - Estado: (4, 0)\n",
      "Acción: girar reloj 2 - Estado: (4, 7)\n",
      "Acción: girar los dos relojes y vaciar el menor - Estado: (7, 0)\n",
      "Acción: girar los dos relojes y vaciar el menor - Estado: (0, 3)\n",
      "\n",
      "Estado final: (0, 3)\n",
      "\n",
      "\n",
      "El estado final (0, 3) cumple con el objetivo de 3 minutos.\n",
      "\n",
      "\n"
     ]
    }
   ],
   "source": [
    "#3 minutos\n",
    "problem = Relojes(11, 7, 3)  # Relojes de 7 y 11 minutos, con meta de 3 minutos\n",
    "print(\"Estado inicial:\", problem.initial)\n",
    "\n",
    "res3 = iterative_deepening_search(problem)\n",
    "\n",
    "if not hasattr(res3,\"solution\"):\n",
    "    print(\"No se encontró solución.\")\n",
    "else:\n",
    "    print(\"\\nSolución encontrada:\", res3.solution())\n",
    "    mostrar_solucion(problem, res3)\n",
    "# objetivo\n",
    "if hasattr(res3,\"state\"):\n",
    "    estado_final = res3.state\n",
    "    print(f\"\\nEstado final: {estado_final}\")\n",
    "    print(\"\\n\")\n",
    "    if problem.goal_test(estado_final):\n",
    "        print(f\"El estado final {estado_final} cumple con el objetivo de {problem.goal} minutos.\")\n",
    "    else:\n",
    "        print(f\"El estado final {estado_final} no cumple con el objetivo.\")\n",
    "    print(\"\\n\")"
   ]
  },
  {
   "cell_type": "markdown",
   "id": "085eedf8",
   "metadata": {},
   "source": [
    "La búsqueda en profundidad iterativa es completa y óptima, por lo que también encuentra la solución en 4 pasos."
   ]
  }
 ],
 "metadata": {
  "kernelspec": {
   "display_name": ".venv",
   "language": "python",
   "name": "python3"
  },
  "language_info": {
   "codemirror_mode": {
    "name": "ipython",
    "version": 3
   },
   "file_extension": ".py",
   "mimetype": "text/x-python",
   "name": "python",
   "nbconvert_exporter": "python",
   "pygments_lexer": "ipython3",
   "version": "3.12.6"
  }
 },
 "nbformat": 4,
 "nbformat_minor": 5
}
