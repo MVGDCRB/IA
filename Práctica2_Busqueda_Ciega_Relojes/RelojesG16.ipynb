{
 "cells": [
  {
   "cell_type": "markdown",
   "id": "5b43971f-e09b-4bb7-bd0c-f1f16cd6aee5",
   "metadata": {},
   "source": [
    "\n",
    "*PROBLEMA RELOJES*\n",
    "\n",
    "G16, Álvaro Escuderom, Miguel Macicior y Daniel García.\n",
    "\n",
    "Disponemos de dos relojes de arena. Uno mide 7 minutos y el otro mide 11 minutos. \n",
    "Inicialmente los dos relojes tienen toda la arena en uno de sus lados. Con estos dos relojes \n",
    "podemos\n",
    ": \n",
    "• Girar un reloj (con lo que la arena de un lado cae en el otro). \n",
    "• Girar los dos relojes a la vez hasta que uno de los dos se vac\n",
    "íe. \n",
    "El objetivo, con ayuda exclusiva de los dos relojes, es lograr una configuración en la que el \n",
    "contenido de uno de los lados de alguno de los dos relojes equivalga a 3 min\n",
    "utos. ¿Se uede \n",
    "cons\n",
    "eguir? ¿se pueden conseguir 5 minutos?   \n",
    "Prueba distintos algoritmos de búsqueda ciega y comenta los resultados obtenidos. "
   ]
  },
  {
   "cell_type": "code",
   "execution_count": 1,
   "id": "7f44d11d-f23b-4e12-b887-ad33b9a82567",
   "metadata": {},
   "outputs": [],
   "source": [
    "from search import Problem\n",
    "\n",
    "from search import depth_limited_search\n",
    "\n",
    "from search import *\n",
    "\n",
    "class Relojes(Problem):\n",
    "    \"\"\"Problema de las relojes:\n",
    "    Representaremos los estados como tuplas (x,y) de dos números enteros,\n",
    "    donde x es el número de minutos del reloj 1 e y es  el número de minutos del reloj 2, que ya han trascurrido (abajo) \"\"\"\n",
    "    \n",
    "    def __init__(self, e1,e2, g):\n",
    "        self.initial = (e1,e2)\n",
    "        self.tam1 = e1\n",
    "        self.tam2 = e2\n",
    "        self.goal = g\n",
    "        \n",
    "    def actions(self,estado):\n",
    "        reloj_1=estado[0]\n",
    "        reloj_2=estado[1]\n",
    "        #accs es una lista que inicializamos vacía, comprobaremos las precondiciones y añadiremos en esta lista las acciones aplicables al estado.\n",
    "        accs=list() \n",
    "        if reloj_1 < self.tam1:\n",
    "            accs.append(\"vaciar reloj 1\")\n",
    "        if reloj_2 < self.tam2:\n",
    "            accs.append(\"vaciar reloj 2\")\n",
    "        if reloj_1 == self.tam1:\n",
    "            accs.append(\"girar reloj 1\")\n",
    "        if reloj_2 == self.tam2:\n",
    "            accs.append(\"girar reloj 2\")\n",
    "        return accs\n",
    "        # se devuelve en accs todas las acciones aplicables\n",
    "\n",
    "    def result(self,estado,accion):\n",
    "    # aplica una acción a un estado (esta función se llamará desde el algoritmo de búsqueda)\n",
    "        r1=estado[0]\n",
    "        r2=estado[1]\n",
    "        if accion==\"vaciar reloj 1\":\n",
    "            return (self.tam1,min(r2+r1, self.tam2))\n",
    "        elif accion==\"vaciar reloj 2\":\n",
    "            return (min(r1+r2,self.tam1),self.tam2)\n",
    "        elif accion==\"girar reloj 1\":\n",
    "            return (0,r2)\n",
    "        elif accion==\"girar reloj 2\":\n",
    "            return (r1,0)\n",
    "\n",
    "    def goal_test(self,estado):\n",
    "        return estado[0]==self.goal or estado[1]==self.goal or self.tam1 - estado[0] == self.goal or self.tam2 - estado[1] == self.goal"
   ]
  },
  {
   "cell_type": "code",
   "execution_count": 2,
   "id": "4e29cab1-ce91-49a6-96af-27efe370c062",
   "metadata": {},
   "outputs": [
    {
     "data": {
      "text/plain": [
       "(11, 7)"
      ]
     },
     "execution_count": 2,
     "metadata": {},
     "output_type": "execute_result"
    }
   ],
   "source": [
    "p=Relojes(11,7,3)\n",
    "p.initial"
   ]
  },
  {
   "cell_type": "code",
   "execution_count": 3,
   "id": "3172e92b-89b1-44a5-8aff-78915da41972",
   "metadata": {},
   "outputs": [
    {
     "data": {
      "text/plain": [
       "['girar reloj 1', 'girar reloj 2']"
      ]
     },
     "execution_count": 3,
     "metadata": {},
     "output_type": "execute_result"
    }
   ],
   "source": [
    "# Acciones válidas desde el estado inicial (actions comprueba las acciones para las que se cumplen las precondiciones). \n",
    "# Generador: sólo acciones válidas e interesantes.\n",
    "p.actions(p.initial)"
   ]
  },
  {
   "cell_type": "code",
   "execution_count": 7,
   "id": "cc26b216-76a3-44b5-9830-d596b19d00ab",
   "metadata": {},
   "outputs": [
    {
     "data": {
      "text/plain": [
       "<__main__.Relojes at 0x26643a814f0>"
      ]
     },
     "execution_count": 7,
     "metadata": {},
     "output_type": "execute_result"
    }
   ],
   "source": [
    "p.result(p.initial,\"girar reloj 1\")"
   ]
  },
  {
   "cell_type": "code",
   "execution_count": 5,
   "id": "65e8536d-d53b-4b6d-9826-a425dc20bd44",
   "metadata": {},
   "outputs": [
    {
     "data": {
      "text/plain": [
       "False"
      ]
     },
     "execution_count": 5,
     "metadata": {},
     "output_type": "execute_result"
    }
   ],
   "source": [
    "p.goal_test(p.initial)"
   ]
  },
  {
   "cell_type": "code",
   "execution_count": 8,
   "id": "987655a0-0e4f-47cb-9d1b-5a5d21d8e7ab",
   "metadata": {},
   "outputs": [
    {
     "ename": "AttributeError",
     "evalue": "'str' object has no attribute 'solution'",
     "output_type": "error",
     "traceback": [
      "\u001b[1;31m---------------------------------------------------------------------------\u001b[0m",
      "\u001b[1;31mAttributeError\u001b[0m                            Traceback (most recent call last)",
      "Cell \u001b[1;32mIn[8], line 1\u001b[0m\n\u001b[1;32m----> 1\u001b[0m \u001b[43mdepth_limited_search\u001b[49m\u001b[43m(\u001b[49m\u001b[43mp\u001b[49m\u001b[43m,\u001b[49m\u001b[38;5;241;43m8\u001b[39;49m\u001b[43m)\u001b[49m\u001b[38;5;241;43m.\u001b[39;49m\u001b[43msolution\u001b[49m()\n\u001b[0;32m      2\u001b[0m p\n",
      "\u001b[1;31mAttributeError\u001b[0m: 'str' object has no attribute 'solution'"
     ]
    }
   ],
   "source": [
    "depth_limited_search(p,8).solution()"
   ]
  },
  {
   "cell_type": "code",
   "execution_count": null,
   "id": "6d022753-5d42-4912-bf99-fb8a4fe25017",
   "metadata": {},
   "outputs": [],
   "source": []
  }
 ],
 "metadata": {
  "kernelspec": {
   "display_name": ".venv",
   "language": "python",
   "name": "python3"
  },
  "language_info": {
   "codemirror_mode": {
    "name": "ipython",
    "version": 3
   },
   "file_extension": ".py",
   "mimetype": "text/x-python",
   "name": "python",
   "nbconvert_exporter": "python",
   "pygments_lexer": "ipython3",
   "version": "3.12.6"
  }
 },
 "nbformat": 4,
 "nbformat_minor": 5
}
